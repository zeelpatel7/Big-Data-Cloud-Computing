{
  "nbformat": 4,
  "nbformat_minor": 0,
  "metadata": {
    "colab": {
      "provenance": []
    },
    "kernelspec": {
      "name": "python3",
      "display_name": "Python 3"
    },
    "language_info": {
      "name": "python"
    }
  },
  "cells": [
    {
      "cell_type": "markdown",
      "source": [
        "#BDP Assignment 4: Data Exploration and Preparation Using Spark RDD"
      ],
      "metadata": {
        "id": "UvdjZXbcSP3K"
      }
    },
    {
      "cell_type": "markdown",
      "source": [
        "## Name: Zeel Patel"
      ],
      "metadata": {
        "id": "cvm48BAaSYw5"
      }
    },
    {
      "cell_type": "code",
      "execution_count": 2,
      "metadata": {
        "id": "hzkwb36_Mxp5"
      },
      "outputs": [],
      "source": [
        "# Update environment (if needed)\n",
        "# !sudo apt update\n",
        "\n",
        "# Download and install Java\n",
        "!sudo apt-get install openjdk-8-jdk-headless -qq > /dev/null\n",
        "\n",
        "# Install Apache Spark with Hadoop\n",
        "!wget -nc -q https://downloads.apache.org/spark/spark-3.5.3/spark-3.5.3-bin-hadoop3.tgz\n",
        "\n",
        "# Unzip the folder\n",
        "!tar xf spark-3.5.3-bin-hadoop3.tgz\n",
        "\n",
        "# Install findspark library that will locate Spark on the system\n",
        "!pip install -q findspark\n"
      ]
    },
    {
      "cell_type": "code",
      "source": [
        "# Setting the environment variables, to enable running PySpark in Colab environment.\n",
        "\n",
        "import os\n",
        "import shutil\n",
        "from itertools import islice\n",
        "import requests\n",
        "\n",
        "os.environ[\"JAVA_HOME\"] = \"/usr/lib/jvm/java-8-openjdk-amd64\"\n",
        "os.environ[\"SPARK_HOME\"] = \"/content/spark-3.5.3-bin-hadoop3\""
      ],
      "metadata": {
        "id": "0fV2guhROXln"
      },
      "execution_count": 3,
      "outputs": []
    },
    {
      "cell_type": "code",
      "source": [
        "# Locate Spark in the system\n",
        "\n",
        "import findspark\n",
        "findspark.init()"
      ],
      "metadata": {
        "id": "r05mHXPdOap9"
      },
      "execution_count": 4,
      "outputs": []
    },
    {
      "cell_type": "code",
      "source": [
        "from pyspark.sql import SparkSession\n",
        "from pyspark.sql.functions import *\n",
        "# from pyspark.sql import functions as F\n",
        "from pyspark.sql.types import *\n",
        "\n",
        "# Create spark_session\n",
        "spark = SparkSession.builder.getOrCreate()\n",
        "sc = spark.sparkContext\n",
        "\n",
        "spark.version"
      ],
      "metadata": {
        "colab": {
          "base_uri": "https://localhost:8080/",
          "height": 35
        },
        "id": "vJBMEO8sOc2M",
        "outputId": "c56367ba-8f0a-41e3-dce3-e3237ba2b472"
      },
      "execution_count": 5,
      "outputs": [
        {
          "output_type": "execute_result",
          "data": {
            "text/plain": [
              "'3.5.3'"
            ],
            "application/vnd.google.colaboratory.intrinsic+json": {
              "type": "string"
            }
          },
          "metadata": {},
          "execution_count": 5
        }
      ]
    },
    {
      "cell_type": "code",
      "source": [
        "# Load the Drive helper and mount\n",
        "from google.colab import drive\n",
        "\n",
        "# This will prompt for authorization.\n",
        "drive.mount('/content/drive')"
      ],
      "metadata": {
        "colab": {
          "base_uri": "https://localhost:8080/"
        },
        "id": "8GLmsbxfOh9S",
        "outputId": "a2d6ee6b-82e4-41b8-ce2b-1f9d6f514637"
      },
      "execution_count": 6,
      "outputs": [
        {
          "output_type": "stream",
          "name": "stdout",
          "text": [
            "Mounted at /content/drive\n"
          ]
        }
      ]
    },
    {
      "cell_type": "markdown",
      "source": [
        "### 1. Copy the file into your own directory in Google Drive"
      ],
      "metadata": {
        "id": "_ceDtF4tSfDP"
      }
    },
    {
      "cell_type": "code",
      "source": [
        "!wget -P /content/drive/MyDrive/Colab Notebooks/Big Data/Assignment_4/ https://storage.googleapis.com/msca-bdp-data-open/austin/Municipal_Court_Caseload_Information.zip\n"
      ],
      "metadata": {
        "colab": {
          "base_uri": "https://localhost:8080/"
        },
        "id": "ncLHNd2-OnaH",
        "outputId": "aa0ebe3f-22be-475a-9bc8-160358eb1eb5"
      },
      "execution_count": 7,
      "outputs": [
        {
          "output_type": "stream",
          "name": "stdout",
          "text": [
            "--2024-10-29 03:05:04--  http://notebooks/Big\n",
            "Resolving notebooks (notebooks)... failed: Name or service not known.\n",
            "wget: unable to resolve host address ‘notebooks’\n",
            "--2024-10-29 03:05:04--  http://data/Assignment_4/\n",
            "Resolving data (data)... failed: No address associated with hostname.\n",
            "wget: unable to resolve host address ‘data’\n",
            "--2024-10-29 03:05:04--  https://storage.googleapis.com/msca-bdp-data-open/austin/Municipal_Court_Caseload_Information.zip\n",
            "Resolving storage.googleapis.com (storage.googleapis.com)... 74.125.139.207, 173.194.212.207, 173.194.210.207, ...\n",
            "Connecting to storage.googleapis.com (storage.googleapis.com)|74.125.139.207|:443... connected.\n",
            "HTTP request sent, awaiting response... 200 OK\n",
            "Length: 94212181 (90M) [application/x-zip-compressed]\n",
            "Saving to: ‘/content/drive/MyDrive/Colab/Municipal_Court_Caseload_Information.zip’\n",
            "\n",
            "Municipal_Court_Cas 100%[===================>]  89.85M  45.4MB/s    in 2.0s    \n",
            "\n",
            "2024-10-29 03:05:06 (45.4 MB/s) - ‘/content/drive/MyDrive/Colab/Municipal_Court_Caseload_Information.zip’ saved [94212181/94212181]\n",
            "\n",
            "FINISHED --2024-10-29 03:05:06--\n",
            "Total wall clock time: 2.3s\n",
            "Downloaded: 1 files, 90M in 2.0s (45.4 MB/s)\n"
          ]
        }
      ]
    },
    {
      "cell_type": "code",
      "source": [
        "!ls -l \"/content/drive/My Drive/Colab Notebooks/Big Data/Assignment_4/\""
      ],
      "metadata": {
        "colab": {
          "base_uri": "https://localhost:8080/"
        },
        "id": "KSyZOcUJPenG",
        "outputId": "cb0447e3-66d6-4383-a7e9-3814ff6215f9"
      },
      "execution_count": 8,
      "outputs": [
        {
          "output_type": "stream",
          "name": "stdout",
          "text": [
            "total 92005\n",
            "-rw------- 1 root root 94212181 Sep 26  2021 Municipal_Court_Caseload_Information.zip\n"
          ]
        }
      ]
    },
    {
      "cell_type": "markdown",
      "source": [
        "###2. Unzip the file (using Linux commands)"
      ],
      "metadata": {
        "id": "3h-SmFHeSk-z"
      }
    },
    {
      "cell_type": "code",
      "source": [
        "!unzip \"/content/drive/MyDrive/Colab Notebooks/Big Data/Assignment_4/Municipal_Court_Caseload_Information.zip\" -d \"/content/drive/MyDrive/Colab Notebooks/Big Data/Assignment_4/\""
      ],
      "metadata": {
        "colab": {
          "base_uri": "https://localhost:8080/"
        },
        "id": "V3B8EYSBPiOd",
        "outputId": "de03d3c6-42da-44e4-bc94-36238d7c3ba4"
      },
      "execution_count": 11,
      "outputs": [
        {
          "output_type": "stream",
          "name": "stdout",
          "text": [
            "Archive:  /content/drive/MyDrive/Colab Notebooks/Big Data/Assignment_4/Municipal_Court_Caseload_Information.zip\n",
            "  inflating: /content/drive/MyDrive/Colab Notebooks/Big Data/Assignment_4/Municipal_Court_Caseload_Information.csv  \n"
          ]
        }
      ]
    },
    {
      "cell_type": "code",
      "source": [
        "file_path =  \"/content/drive/MyDrive/Colab Notebooks/Big Data/Assignment_4/\""
      ],
      "metadata": {
        "id": "m1UHl-MlQsu8"
      },
      "execution_count": 12,
      "outputs": []
    },
    {
      "cell_type": "markdown",
      "source": [
        "### 3. Read the data into Spark RDD\n"
      ],
      "metadata": {
        "id": "JmZlp4_1Sx1l"
      }
    },
    {
      "cell_type": "code",
      "source": [
        "readme_raw = sc.textFile(\"file://\" + file_path  + \"/Municipal_Court_Caseload_Information.csv\")"
      ],
      "metadata": {
        "id": "v43PgeB7QJ95"
      },
      "execution_count": 24,
      "outputs": []
    },
    {
      "cell_type": "code",
      "source": [
        "type(readme_raw)"
      ],
      "metadata": {
        "colab": {
          "base_uri": "https://localhost:8080/",
          "height": 172
        },
        "id": "Xu79fuSVQ5Bl",
        "outputId": "8fb488e4-ee83-4fe7-db70-d5057f8f0c27"
      },
      "execution_count": 25,
      "outputs": [
        {
          "output_type": "execute_result",
          "data": {
            "text/plain": [
              "pyspark.rdd.RDD"
            ],
            "text/html": [
              "<div style=\"max-width:800px; border: 1px solid var(--colab-border-color);\"><style>\n",
              "      pre.function-repr-contents {\n",
              "        overflow-x: auto;\n",
              "        padding: 8px 12px;\n",
              "        max-height: 500px;\n",
              "      }\n",
              "\n",
              "      pre.function-repr-contents.function-repr-contents-collapsed {\n",
              "        cursor: pointer;\n",
              "        max-height: 100px;\n",
              "      }\n",
              "    </style>\n",
              "    <pre style=\"white-space: initial; background:\n",
              "         var(--colab-secondary-surface-color); padding: 8px 12px;\n",
              "         border-bottom: 1px solid var(--colab-border-color);\"><b>pyspark.rdd.RDD</b><br/>def __init__(jrdd: &#x27;JavaObject&#x27;, ctx: &#x27;SparkContext&#x27;, jrdd_deserializer: Serializer=AutoBatchedSerializer(CPickleSerializer()))</pre><pre class=\"function-repr-contents function-repr-contents-collapsed\" style=\"\"><a class=\"filepath\" style=\"display:none\" href=\"#\">/content/spark-3.5.3-bin-hadoop3/python/pyspark/rdd.py</a>A Resilient Distributed Dataset (RDD), the basic abstraction in Spark.\n",
              "Represents an immutable, partitioned collection of elements that can be\n",
              "operated on in parallel.</pre>\n",
              "      <script>\n",
              "      if (google.colab.kernel.accessAllowed && google.colab.files && google.colab.files.view) {\n",
              "        for (const element of document.querySelectorAll('.filepath')) {\n",
              "          element.style.display = 'block'\n",
              "          element.onclick = (event) => {\n",
              "            event.preventDefault();\n",
              "            event.stopPropagation();\n",
              "            google.colab.files.view(element.textContent, 336);\n",
              "          };\n",
              "        }\n",
              "      }\n",
              "      for (const element of document.querySelectorAll('.function-repr-contents')) {\n",
              "        element.onclick = (event) => {\n",
              "          event.preventDefault();\n",
              "          event.stopPropagation();\n",
              "          element.classList.toggle('function-repr-contents-collapsed');\n",
              "        };\n",
              "      }\n",
              "      </script>\n",
              "      </div>"
            ]
          },
          "metadata": {},
          "execution_count": 25
        }
      ]
    },
    {
      "cell_type": "markdown",
      "source": [
        "### 4. Ensure your process the header record correctly"
      ],
      "metadata": {
        "id": "Em44OFAFS3-T"
      }
    },
    {
      "cell_type": "code",
      "source": [
        "readme_raw.take(2)"
      ],
      "metadata": {
        "colab": {
          "base_uri": "https://localhost:8080/"
        },
        "id": "p9Vhu6OWQ5yI",
        "outputId": "4fea9524-4b76-4bf2-b1b3-52f148a86eee"
      },
      "execution_count": 15,
      "outputs": [
        {
          "output_type": "execute_result",
          "data": {
            "text/plain": [
              "['Offense Case Type,Offense Date,Offense Time,Offense Charge Description,Offense Street Name,Offense Cross Street Check , Offense Cross Street,School Zone,Construction Zone,Case Closed',\n",
              " 'TR,04/29/2010 07:00:00 AM +0000,22.40.00,FAILED TO MAINTAIN FINANCIAL RESPONSIBILITY,8000 BLOCK RESEARCH,N, ,N,N,Y']"
            ]
          },
          "metadata": {},
          "execution_count": 15
        }
      ]
    },
    {
      "cell_type": "code",
      "source": [
        "header = readme_raw.first()\n",
        "readme_raw_processed = readme_raw.filter(lambda row: row != header)"
      ],
      "metadata": {
        "id": "hkLv-6F6RAr3"
      },
      "execution_count": 16,
      "outputs": []
    },
    {
      "cell_type": "code",
      "source": [
        "offense_case_type = readme_raw_processed.map(lambda s: s.split(\",\")[0])"
      ],
      "metadata": {
        "id": "sGWT3nfMRF3I"
      },
      "execution_count": 17,
      "outputs": []
    },
    {
      "cell_type": "code",
      "source": [
        "offense_case_type.first()"
      ],
      "metadata": {
        "colab": {
          "base_uri": "https://localhost:8080/",
          "height": 35
        },
        "id": "ndxI-GbCRHDa",
        "outputId": "98923a2b-0dfc-45b2-a5b2-2a6d975d87f4"
      },
      "execution_count": 18,
      "outputs": [
        {
          "output_type": "execute_result",
          "data": {
            "text/plain": [
              "'TR'"
            ],
            "application/vnd.google.colaboratory.intrinsic+json": {
              "type": "string"
            }
          },
          "metadata": {},
          "execution_count": 18
        }
      ]
    },
    {
      "cell_type": "code",
      "source": [
        "count = offense_case_type.map(lambda x: (x, 1))"
      ],
      "metadata": {
        "id": "VgKnm2gXRIvA"
      },
      "execution_count": 19,
      "outputs": []
    },
    {
      "cell_type": "markdown",
      "source": [
        "### 5. Calculate frequency of offenses by Offense Case Type"
      ],
      "metadata": {
        "id": "og0rBt-fS8wf"
      }
    },
    {
      "cell_type": "code",
      "source": [
        "count_total = count.reduceByKey(lambda x,y:x+y)\n",
        "count_total.take(10)"
      ],
      "metadata": {
        "colab": {
          "base_uri": "https://localhost:8080/"
        },
        "id": "PtPGTu5wRLSx",
        "outputId": "aa6e49b8-c768-42c5-8814-814130072b17"
      },
      "execution_count": 20,
      "outputs": [
        {
          "output_type": "execute_result",
          "data": {
            "text/plain": [
              "[('TR', 4313221),\n",
              " ('PK', 3388981),\n",
              " ('CM', 319078),\n",
              " ('CO', 240308),\n",
              " ('RL', 224188)]"
            ]
          },
          "metadata": {},
          "execution_count": 20
        }
      ]
    },
    {
      "cell_type": "code",
      "source": [
        "offense_charge_desc = readme_raw_processed.map(lambda s: s.split(\",\")[3])"
      ],
      "metadata": {
        "id": "MvCAp63qRcrL"
      },
      "execution_count": 21,
      "outputs": []
    },
    {
      "cell_type": "markdown",
      "source": [
        "### 6. Identify the most frequent offenses by Offense Charge Description (Show Offense Charge Description and offense frequency count in descending order)"
      ],
      "metadata": {
        "id": "QH02qL5rTIBL"
      }
    },
    {
      "cell_type": "code",
      "source": [
        "count_desc = offense_charge_desc.map(lambda x: (x, 1))\n",
        "count_desc_total = count_desc.reduceByKey(lambda x,y:x+y)\n",
        "count_desc_total.take(10)"
      ],
      "metadata": {
        "colab": {
          "base_uri": "https://localhost:8080/"
        },
        "id": "ou5h9gTFRda6",
        "outputId": "506f91a4-40cd-41bd-bb3c-e7c92e30d37c"
      },
      "execution_count": 22,
      "outputs": [
        {
          "output_type": "execute_result",
          "data": {
            "text/plain": [
              "[('BICYCLE - RAN RED LIGHT', 2397),\n",
              " ('RAN RED LIGHT', 157783),\n",
              " ('CMV - UNSAFE CONDITION-396 3 A 1', 509),\n",
              " ('PARKING - SIDEWALK AREA', 9918),\n",
              " ('CAMPING IN A PUBLIC AREA', 12144),\n",
              " ('SEATBELT - PASSENGER', 3042),\n",
              " ('ALCOHOL - SELLING/POSSESSING IN PROHIBITED AREA', 3266),\n",
              " ('PARKING - DOUBLE PARKED', 2820),\n",
              " ('MOTOR VEHICLE INSPECTION VIOLATION', 43),\n",
              " ('CROSSING PROPERTY TO TURN RIGHT OR LEFT', 6866)]"
            ]
          },
          "metadata": {},
          "execution_count": 22
        }
      ]
    },
    {
      "cell_type": "code",
      "source": [
        "count_key = count_desc_total.map(lambda x:(x[1],x[0]))\n",
        "most_frequent_offense = count_key.sortByKey(ascending=False)\n",
        "most_frequent_offense.take(10)"
      ],
      "metadata": {
        "colab": {
          "base_uri": "https://localhost:8080/"
        },
        "id": "I1pcYfKJR10S",
        "outputId": "2efb81a1-2fba-4c56-c6b9-1fc0df7862b7"
      },
      "execution_count": 23,
      "outputs": [
        {
          "output_type": "execute_result",
          "data": {
            "text/plain": [
              "[(892013, 'PAY STATION RECEIPT NOT DISPLAYED'),\n",
              " (732605, 'EXPIRED PAY STATION RECEIPT'),\n",
              " (486576, 'SPEEDING-STATE HIGHWAYS'),\n",
              " (372339, 'NO DRIVERS LICENSE'),\n",
              " (345162, 'SPEEDING - POSTED CITY STREET'),\n",
              " (337672, 'FAILED TO MAINTAIN FINANCIAL RESPONSIBILITY'),\n",
              " (310816, 'PARKING - EXPIRED METER'),\n",
              " (287570, 'SPEEDING - STATE HIGHWAY'),\n",
              " (260662, 'FAIL TO MAINTAIN FINANCIAL RESP'),\n",
              " (238168, 'TOW AWAY ZONE NO PARKING AREA')]"
            ]
          },
          "metadata": {},
          "execution_count": 23
        }
      ]
    }
  ]
}